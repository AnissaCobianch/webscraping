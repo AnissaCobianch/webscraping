{
 "cells": [
  {
   "cell_type": "markdown",
   "metadata": {},
   "source": [
    "# Imports"
   ]
  },
  {
   "cell_type": "code",
   "execution_count": 1,
   "metadata": {},
   "outputs": [],
   "source": [
    "import pandas as pd\n",
    "import requests\n",
    "from bs4 import BeautifulSoup"
   ]
  },
  {
   "cell_type": "markdown",
   "metadata": {},
   "source": [
    "# Collecting data"
   ]
  },
  {
   "cell_type": "code",
   "execution_count": 27,
   "metadata": {},
   "outputs": [],
   "source": [
    "df_covid = pd.read_html(\"https://www.statista.com/statistics/1104709/coronavirus-deaths-worldwide-per-million-inhabitants/\")[0]"
   ]
  },
  {
   "cell_type": "code",
   "execution_count": 28,
   "metadata": {},
   "outputs": [
    {
     "data": {
      "text/html": [
       "<div>\n",
       "<style scoped>\n",
       "    .dataframe tbody tr th:only-of-type {\n",
       "        vertical-align: middle;\n",
       "    }\n",
       "\n",
       "    .dataframe tbody tr th {\n",
       "        vertical-align: top;\n",
       "    }\n",
       "\n",
       "    .dataframe thead th {\n",
       "        text-align: right;\n",
       "    }\n",
       "</style>\n",
       "<table border=\"1\" class=\"dataframe\">\n",
       "  <thead>\n",
       "    <tr style=\"text-align: right;\">\n",
       "      <th></th>\n",
       "      <th>Unnamed: 0</th>\n",
       "      <th>Confirmed cases (absolute)</th>\n",
       "      <th>Cases in last 7 days</th>\n",
       "      <th>Confirmed deaths (absolute)</th>\n",
       "      <th>Deaths in last 7 days</th>\n",
       "      <th>Daily increase (# deaths)</th>\n",
       "      <th>Population (in millions)</th>\n",
       "      <th>Deaths per million (total)</th>\n",
       "      <th>Deaths per million (last 7 days)</th>\n",
       "    </tr>\n",
       "  </thead>\n",
       "  <tbody>\n",
       "    <tr>\n",
       "      <th>0</th>\n",
       "      <td>Belgium</td>\n",
       "      <td>757696</td>\n",
       "      <td>13814</td>\n",
       "      <td>21956</td>\n",
       "      <td>163</td>\n",
       "      <td>33</td>\n",
       "      <td>11.48</td>\n",
       "      <td>1911.87</td>\n",
       "      <td>14.19</td>\n",
       "    </tr>\n",
       "  </tbody>\n",
       "</table>\n",
       "</div>"
      ],
      "text/plain": [
       "  Unnamed: 0  Confirmed cases (absolute)  Cases in last 7 days  \\\n",
       "0    Belgium                      757696                 13814   \n",
       "\n",
       "   Confirmed deaths (absolute)  Deaths in last 7 days  \\\n",
       "0                        21956                    163   \n",
       "\n",
       "   Daily increase (# deaths)  Population (in millions)  \\\n",
       "0                         33                     11.48   \n",
       "\n",
       "   Deaths per million (total)  Deaths per million (last 7 days)  \n",
       "0                     1911.87                             14.19  "
      ]
     },
     "execution_count": 28,
     "metadata": {},
     "output_type": "execute_result"
    }
   ],
   "source": [
    "df_covid.head(1)"
   ]
  },
  {
   "cell_type": "code",
   "execution_count": 29,
   "metadata": {},
   "outputs": [],
   "source": [
    "df_covid.rename(columns={\"Unnamed: 0\":\"Country\"}, inplace=True)"
   ]
  },
  {
   "cell_type": "code",
   "execution_count": 30,
   "metadata": {},
   "outputs": [
    {
     "data": {
      "text/html": [
       "<div>\n",
       "<style scoped>\n",
       "    .dataframe tbody tr th:only-of-type {\n",
       "        vertical-align: middle;\n",
       "    }\n",
       "\n",
       "    .dataframe tbody tr th {\n",
       "        vertical-align: top;\n",
       "    }\n",
       "\n",
       "    .dataframe thead th {\n",
       "        text-align: right;\n",
       "    }\n",
       "</style>\n",
       "<table border=\"1\" class=\"dataframe\">\n",
       "  <thead>\n",
       "    <tr style=\"text-align: right;\">\n",
       "      <th></th>\n",
       "      <th>Country</th>\n",
       "      <th>Confirmed cases (absolute)</th>\n",
       "      <th>Cases in last 7 days</th>\n",
       "      <th>Confirmed deaths (absolute)</th>\n",
       "      <th>Deaths in last 7 days</th>\n",
       "      <th>Daily increase (# deaths)</th>\n",
       "      <th>Population (in millions)</th>\n",
       "      <th>Deaths per million (total)</th>\n",
       "      <th>Deaths per million (last 7 days)</th>\n",
       "    </tr>\n",
       "  </thead>\n",
       "  <tbody>\n",
       "    <tr>\n",
       "      <th>0</th>\n",
       "      <td>Belgium</td>\n",
       "      <td>757696</td>\n",
       "      <td>13814</td>\n",
       "      <td>21956</td>\n",
       "      <td>163</td>\n",
       "      <td>33</td>\n",
       "      <td>11.48</td>\n",
       "      <td>1911.87</td>\n",
       "      <td>14.19</td>\n",
       "    </tr>\n",
       "    <tr>\n",
       "      <th>1</th>\n",
       "      <td>Czechia</td>\n",
       "      <td>1168491</td>\n",
       "      <td>56169</td>\n",
       "      <td>19537</td>\n",
       "      <td>941</td>\n",
       "      <td>207</td>\n",
       "      <td>10.67</td>\n",
       "      <td>1831.07</td>\n",
       "      <td>88.19</td>\n",
       "    </tr>\n",
       "    <tr>\n",
       "      <th>2</th>\n",
       "      <td>Slovenia</td>\n",
       "      <td>185916</td>\n",
       "      <td>4310</td>\n",
       "      <td>3792</td>\n",
       "      <td>47</td>\n",
       "      <td>8</td>\n",
       "      <td>2.09</td>\n",
       "      <td>1816.14</td>\n",
       "      <td>22.51</td>\n",
       "    </tr>\n",
       "    <tr>\n",
       "      <th>3</th>\n",
       "      <td>United Kingdom¹</td>\n",
       "      <td>4122518</td>\n",
       "      <td>63244</td>\n",
       "      <td>121074</td>\n",
       "      <td>2367</td>\n",
       "      <td>548</td>\n",
       "      <td>66.83</td>\n",
       "      <td>1811.55</td>\n",
       "      <td>35.42</td>\n",
       "    </tr>\n",
       "    <tr>\n",
       "      <th>4</th>\n",
       "      <td>Italy</td>\n",
       "      <td>2832162</td>\n",
       "      <td>80505</td>\n",
       "      <td>96348</td>\n",
       "      <td>1808</td>\n",
       "      <td>356</td>\n",
       "      <td>60.30</td>\n",
       "      <td>1597.88</td>\n",
       "      <td>29.98</td>\n",
       "    </tr>\n",
       "  </tbody>\n",
       "</table>\n",
       "</div>"
      ],
      "text/plain": [
       "           Country  Confirmed cases (absolute)  Cases in last 7 days  \\\n",
       "0          Belgium                      757696                 13814   \n",
       "1          Czechia                     1168491                 56169   \n",
       "2         Slovenia                      185916                  4310   \n",
       "3  United Kingdom¹                     4122518                 63244   \n",
       "4            Italy                     2832162                 80505   \n",
       "\n",
       "   Confirmed deaths (absolute)  Deaths in last 7 days  \\\n",
       "0                        21956                    163   \n",
       "1                        19537                    941   \n",
       "2                         3792                     47   \n",
       "3                       121074                   2367   \n",
       "4                        96348                   1808   \n",
       "\n",
       "   Daily increase (# deaths)  Population (in millions)  \\\n",
       "0                         33                     11.48   \n",
       "1                        207                     10.67   \n",
       "2                          8                      2.09   \n",
       "3                        548                     66.83   \n",
       "4                        356                     60.30   \n",
       "\n",
       "   Deaths per million (total)  Deaths per million (last 7 days)  \n",
       "0                     1911.87                             14.19  \n",
       "1                     1831.07                             88.19  \n",
       "2                     1816.14                             22.51  \n",
       "3                     1811.55                             35.42  \n",
       "4                     1597.88                             29.98  "
      ]
     },
     "execution_count": 30,
     "metadata": {},
     "output_type": "execute_result"
    }
   ],
   "source": [
    "df_covid.head()"
   ]
  },
  {
   "cell_type": "markdown",
   "metadata": {},
   "source": [
    "# Analyze"
   ]
  },
  {
   "cell_type": "code",
   "execution_count": 23,
   "metadata": {},
   "outputs": [
    {
     "data": {
      "text/html": [
       "<div>\n",
       "<style scoped>\n",
       "    .dataframe tbody tr th:only-of-type {\n",
       "        vertical-align: middle;\n",
       "    }\n",
       "\n",
       "    .dataframe tbody tr th {\n",
       "        vertical-align: top;\n",
       "    }\n",
       "\n",
       "    .dataframe thead th {\n",
       "        text-align: right;\n",
       "    }\n",
       "</style>\n",
       "<table border=\"1\" class=\"dataframe\">\n",
       "  <thead>\n",
       "    <tr style=\"text-align: right;\">\n",
       "      <th></th>\n",
       "      <th>Unnamed: 0</th>\n",
       "      <th>Confirmed cases (absolute)</th>\n",
       "      <th>Cases in last 7 days</th>\n",
       "      <th>Confirmed deaths (absolute)</th>\n",
       "      <th>Deaths in last 7 days</th>\n",
       "      <th>Daily increase (# deaths)</th>\n",
       "      <th>Population (in millions)</th>\n",
       "      <th>Deaths per million (total)</th>\n",
       "      <th>Deaths per million (last 7 days)</th>\n",
       "    </tr>\n",
       "  </thead>\n",
       "  <tbody>\n",
       "    <tr>\n",
       "      <th>19</th>\n",
       "      <td>Slovakia</td>\n",
       "      <td>294790</td>\n",
       "      <td>11926</td>\n",
       "      <td>6671</td>\n",
       "      <td>503</td>\n",
       "      <td>94</td>\n",
       "      <td>5.45</td>\n",
       "      <td>1223.12</td>\n",
       "      <td>92.22</td>\n",
       "    </tr>\n",
       "    <tr>\n",
       "      <th>1</th>\n",
       "      <td>Czechia</td>\n",
       "      <td>1168491</td>\n",
       "      <td>56169</td>\n",
       "      <td>19537</td>\n",
       "      <td>941</td>\n",
       "      <td>207</td>\n",
       "      <td>10.67</td>\n",
       "      <td>1831.07</td>\n",
       "      <td>88.19</td>\n",
       "    </tr>\n",
       "    <tr>\n",
       "      <th>9</th>\n",
       "      <td>Hungary</td>\n",
       "      <td>407274</td>\n",
       "      <td>16104</td>\n",
       "      <td>14450</td>\n",
       "      <td>519</td>\n",
       "      <td>103</td>\n",
       "      <td>9.77</td>\n",
       "      <td>1479.03</td>\n",
       "      <td>53.12</td>\n",
       "    </tr>\n",
       "    <tr>\n",
       "      <th>11</th>\n",
       "      <td>Moldova</td>\n",
       "      <td>178540</td>\n",
       "      <td>5725</td>\n",
       "      <td>3823</td>\n",
       "      <td>126</td>\n",
       "      <td>3823</td>\n",
       "      <td>2.66</td>\n",
       "      <td>1438.50</td>\n",
       "      <td>47.41</td>\n",
       "    </tr>\n",
       "    <tr>\n",
       "      <th>41</th>\n",
       "      <td>Lebanon</td>\n",
       "      <td>359337</td>\n",
       "      <td>13257</td>\n",
       "      <td>4446</td>\n",
       "      <td>294</td>\n",
       "      <td>59</td>\n",
       "      <td>6.86</td>\n",
       "      <td>648.51</td>\n",
       "      <td>42.88</td>\n",
       "    </tr>\n",
       "  </tbody>\n",
       "</table>\n",
       "</div>"
      ],
      "text/plain": [
       "   Unnamed: 0  Confirmed cases (absolute)  Cases in last 7 days  \\\n",
       "19   Slovakia                      294790                 11926   \n",
       "1     Czechia                     1168491                 56169   \n",
       "9     Hungary                      407274                 16104   \n",
       "11    Moldova                      178540                  5725   \n",
       "41    Lebanon                      359337                 13257   \n",
       "\n",
       "    Confirmed deaths (absolute)  Deaths in last 7 days  \\\n",
       "19                         6671                    503   \n",
       "1                         19537                    941   \n",
       "9                         14450                    519   \n",
       "11                         3823                    126   \n",
       "41                         4446                    294   \n",
       "\n",
       "    Daily increase (# deaths)  Population (in millions)  \\\n",
       "19                         94                      5.45   \n",
       "1                         207                     10.67   \n",
       "9                         103                      9.77   \n",
       "11                       3823                      2.66   \n",
       "41                         59                      6.86   \n",
       "\n",
       "    Deaths per million (total)  Deaths per million (last 7 days)  \n",
       "19                     1223.12                             92.22  \n",
       "1                      1831.07                             88.19  \n",
       "9                      1479.03                             53.12  \n",
       "11                     1438.50                             47.41  \n",
       "41                      648.51                             42.88  "
      ]
     },
     "execution_count": 23,
     "metadata": {},
     "output_type": "execute_result"
    }
   ],
   "source": [
    "df_covid.sort_values(\"Deaths per million (last 7 days)\", ascending=False).head()"
   ]
  },
  {
   "cell_type": "code",
   "execution_count": 31,
   "metadata": {},
   "outputs": [
    {
     "data": {
      "text/html": [
       "<div>\n",
       "<style scoped>\n",
       "    .dataframe tbody tr th:only-of-type {\n",
       "        vertical-align: middle;\n",
       "    }\n",
       "\n",
       "    .dataframe tbody tr th {\n",
       "        vertical-align: top;\n",
       "    }\n",
       "\n",
       "    .dataframe thead th {\n",
       "        text-align: right;\n",
       "    }\n",
       "</style>\n",
       "<table border=\"1\" class=\"dataframe\">\n",
       "  <thead>\n",
       "    <tr style=\"text-align: right;\">\n",
       "      <th></th>\n",
       "      <th>Cases in last 7 days</th>\n",
       "      <th>Deaths in last 7 days</th>\n",
       "    </tr>\n",
       "  </thead>\n",
       "  <tbody>\n",
       "    <tr>\n",
       "      <th>Cases in last 7 days</th>\n",
       "      <td>1.000000</td>\n",
       "      <td>0.944094</td>\n",
       "    </tr>\n",
       "    <tr>\n",
       "      <th>Deaths in last 7 days</th>\n",
       "      <td>0.944094</td>\n",
       "      <td>1.000000</td>\n",
       "    </tr>\n",
       "  </tbody>\n",
       "</table>\n",
       "</div>"
      ],
      "text/plain": [
       "                       Cases in last 7 days  Deaths in last 7 days\n",
       "Cases in last 7 days               1.000000               0.944094\n",
       "Deaths in last 7 days              0.944094               1.000000"
      ]
     },
     "execution_count": 31,
     "metadata": {},
     "output_type": "execute_result"
    }
   ],
   "source": [
    "df_covid[[\"Cases in last 7 days\", \"Deaths in last 7 days\"]].corr()"
   ]
  },
  {
   "cell_type": "code",
   "execution_count": 35,
   "metadata": {},
   "outputs": [
    {
     "data": {
      "text/html": [
       "<div>\n",
       "<style scoped>\n",
       "    .dataframe tbody tr th:only-of-type {\n",
       "        vertical-align: middle;\n",
       "    }\n",
       "\n",
       "    .dataframe tbody tr th {\n",
       "        vertical-align: top;\n",
       "    }\n",
       "\n",
       "    .dataframe thead th {\n",
       "        text-align: right;\n",
       "    }\n",
       "</style>\n",
       "<table border=\"1\" class=\"dataframe\">\n",
       "  <thead>\n",
       "    <tr style=\"text-align: right;\">\n",
       "      <th></th>\n",
       "      <th>Deaths in last 7 days</th>\n",
       "      <th>Population (in millions)</th>\n",
       "    </tr>\n",
       "  </thead>\n",
       "  <tbody>\n",
       "    <tr>\n",
       "      <th>Deaths in last 7 days</th>\n",
       "      <td>1.000000</td>\n",
       "      <td>0.198672</td>\n",
       "    </tr>\n",
       "    <tr>\n",
       "      <th>Population (in millions)</th>\n",
       "      <td>0.198672</td>\n",
       "      <td>1.000000</td>\n",
       "    </tr>\n",
       "  </tbody>\n",
       "</table>\n",
       "</div>"
      ],
      "text/plain": [
       "                          Deaths in last 7 days  Population (in millions)\n",
       "Deaths in last 7 days                  1.000000                  0.198672\n",
       "Population (in millions)               0.198672                  1.000000"
      ]
     },
     "execution_count": 35,
     "metadata": {},
     "output_type": "execute_result"
    }
   ],
   "source": [
    "df_covid[[\"Deaths in last 7 days\", \"Population (in millions)\"]].corr()"
   ]
  },
  {
   "cell_type": "markdown",
   "metadata": {},
   "source": [
    "# Prediction"
   ]
  },
  {
   "cell_type": "code",
   "execution_count": 39,
   "metadata": {},
   "outputs": [],
   "source": [
    "from sklearn import linear_model\n",
    "\n",
    "# Split the data into training/testing sets\n",
    "df_covid_train = df_covid[[\"Cases in last 7 days\", \"Deaths in last 7 days\"]][:100]\n",
    "df_covid_test = df_covid[[\"Cases in last 7 days\", \"Deaths in last 7 days\"]][100:]\n",
    "\n",
    "# Split the data into training/testing sets\n",
    "df_covid_X_train = df_covid_train[[\"Cases in last 7 days\"]]\n",
    "df_covid_X_test = df_covid_test[[\"Cases in last 7 days\"]]\n",
    "\n",
    "# Split the targets into training/testing sets\n",
    "df_covid_y_train = df_covid_train[[\"Deaths in last 7 days\"]]\n",
    "df_covid_y_test = df_covid_test[[\"Deaths in last 7 days\"]]\n",
    "\n",
    "# Create linear regression object\n",
    "regr = linear_model.LinearRegression()\n",
    "\n",
    "# Train the model using the training sets\n",
    "regr.fit(df_covid_X_train, df_covid_y_train)\n",
    "\n",
    "# Make predictions using the testing set\n",
    "df_covid_y_pred = regr.predict(df_covid_X_test)"
   ]
  },
  {
   "cell_type": "code",
   "execution_count": 41,
   "metadata": {},
   "outputs": [],
   "source": [
    "df_covid_test['prediction'] = df_covid_y_pred"
   ]
  },
  {
   "cell_type": "code",
   "execution_count": 42,
   "metadata": {},
   "outputs": [
    {
     "data": {
      "text/html": [
       "<div>\n",
       "<style scoped>\n",
       "    .dataframe tbody tr th:only-of-type {\n",
       "        vertical-align: middle;\n",
       "    }\n",
       "\n",
       "    .dataframe tbody tr th {\n",
       "        vertical-align: top;\n",
       "    }\n",
       "\n",
       "    .dataframe thead th {\n",
       "        text-align: right;\n",
       "    }\n",
       "</style>\n",
       "<table border=\"1\" class=\"dataframe\">\n",
       "  <thead>\n",
       "    <tr style=\"text-align: right;\">\n",
       "      <th></th>\n",
       "      <th>Cases in last 7 days</th>\n",
       "      <th>Deaths in last 7 days</th>\n",
       "      <th>prediction</th>\n",
       "    </tr>\n",
       "  </thead>\n",
       "  <tbody>\n",
       "    <tr>\n",
       "      <th>100</th>\n",
       "      <td>2239</td>\n",
       "      <td>60</td>\n",
       "      <td>50.112264</td>\n",
       "    </tr>\n",
       "    <tr>\n",
       "      <th>101</th>\n",
       "      <td>1471</td>\n",
       "      <td>63</td>\n",
       "      <td>30.314749</td>\n",
       "    </tr>\n",
       "    <tr>\n",
       "      <th>102</th>\n",
       "      <td>2667</td>\n",
       "      <td>28</td>\n",
       "      <td>61.145254</td>\n",
       "    </tr>\n",
       "    <tr>\n",
       "      <th>103</th>\n",
       "      <td>127</td>\n",
       "      <td>12</td>\n",
       "      <td>-4.330901</td>\n",
       "    </tr>\n",
       "    <tr>\n",
       "      <th>104</th>\n",
       "      <td>27</td>\n",
       "      <td>0</td>\n",
       "      <td>-6.908702</td>\n",
       "    </tr>\n",
       "  </tbody>\n",
       "</table>\n",
       "</div>"
      ],
      "text/plain": [
       "     Cases in last 7 days  Deaths in last 7 days  prediction\n",
       "100                  2239                     60   50.112264\n",
       "101                  1471                     63   30.314749\n",
       "102                  2667                     28   61.145254\n",
       "103                   127                     12   -4.330901\n",
       "104                    27                      0   -6.908702"
      ]
     },
     "execution_count": 42,
     "metadata": {},
     "output_type": "execute_result"
    }
   ],
   "source": [
    "df_covid_test.head()"
   ]
  },
  {
   "cell_type": "code",
   "execution_count": 48,
   "metadata": {},
   "outputs": [],
   "source": [
    "df_covid_test['prediction'] = df_covid_test['prediction'].apply(lambda x: 0 if x<0 else x)"
   ]
  },
  {
   "cell_type": "code",
   "execution_count": 49,
   "metadata": {},
   "outputs": [
    {
     "data": {
      "text/html": [
       "<div>\n",
       "<style scoped>\n",
       "    .dataframe tbody tr th:only-of-type {\n",
       "        vertical-align: middle;\n",
       "    }\n",
       "\n",
       "    .dataframe tbody tr th {\n",
       "        vertical-align: top;\n",
       "    }\n",
       "\n",
       "    .dataframe thead th {\n",
       "        text-align: right;\n",
       "    }\n",
       "</style>\n",
       "<table border=\"1\" class=\"dataframe\">\n",
       "  <thead>\n",
       "    <tr style=\"text-align: right;\">\n",
       "      <th></th>\n",
       "      <th>Cases in last 7 days</th>\n",
       "      <th>Deaths in last 7 days</th>\n",
       "      <th>prediction</th>\n",
       "    </tr>\n",
       "  </thead>\n",
       "  <tbody>\n",
       "    <tr>\n",
       "      <th>100</th>\n",
       "      <td>2239</td>\n",
       "      <td>60</td>\n",
       "      <td>50.112264</td>\n",
       "    </tr>\n",
       "    <tr>\n",
       "      <th>101</th>\n",
       "      <td>1471</td>\n",
       "      <td>63</td>\n",
       "      <td>30.314749</td>\n",
       "    </tr>\n",
       "    <tr>\n",
       "      <th>102</th>\n",
       "      <td>2667</td>\n",
       "      <td>28</td>\n",
       "      <td>61.145254</td>\n",
       "    </tr>\n",
       "    <tr>\n",
       "      <th>103</th>\n",
       "      <td>127</td>\n",
       "      <td>12</td>\n",
       "      <td>0.000000</td>\n",
       "    </tr>\n",
       "    <tr>\n",
       "      <th>104</th>\n",
       "      <td>27</td>\n",
       "      <td>0</td>\n",
       "      <td>0.000000</td>\n",
       "    </tr>\n",
       "  </tbody>\n",
       "</table>\n",
       "</div>"
      ],
      "text/plain": [
       "     Cases in last 7 days  Deaths in last 7 days  prediction\n",
       "100                  2239                     60   50.112264\n",
       "101                  1471                     63   30.314749\n",
       "102                  2667                     28   61.145254\n",
       "103                   127                     12    0.000000\n",
       "104                    27                      0    0.000000"
      ]
     },
     "execution_count": 49,
     "metadata": {},
     "output_type": "execute_result"
    }
   ],
   "source": [
    "df_covid_test.head()"
   ]
  },
  {
   "cell_type": "code",
   "execution_count": 50,
   "metadata": {},
   "outputs": [],
   "source": [
    "df_covid_test.diff = abs(df_covid_test['Deaths in last 7 days'] - df_covid_test['prediction'])"
   ]
  },
  {
   "cell_type": "code",
   "execution_count": 51,
   "metadata": {},
   "outputs": [
    {
     "data": {
      "text/plain": [
       "count     52.000000\n",
       "mean      22.539932\n",
       "std       62.656929\n",
       "min        0.000000\n",
       "25%        0.000000\n",
       "50%        3.407873\n",
       "75%       12.373997\n",
       "max      335.544855\n",
       "dtype: float64"
      ]
     },
     "execution_count": 51,
     "metadata": {},
     "output_type": "execute_result"
    }
   ],
   "source": [
    "df_covid_test.diff.describe()"
   ]
  }
 ],
 "metadata": {
  "kernelspec": {
   "display_name": "Python 3",
   "language": "python",
   "name": "python3"
  },
  "language_info": {
   "codemirror_mode": {
    "name": "ipython",
    "version": 3
   },
   "file_extension": ".py",
   "mimetype": "text/x-python",
   "name": "python",
   "nbconvert_exporter": "python",
   "pygments_lexer": "ipython3",
   "version": "3.8.5"
  }
 },
 "nbformat": 4,
 "nbformat_minor": 4
}
