{
 "cells": [
  {
   "cell_type": "markdown",
   "metadata": {},
   "source": [
    "# Imports"
   ]
  },
  {
   "cell_type": "code",
   "execution_count": 1,
   "metadata": {},
   "outputs": [],
   "source": [
    "import requests\n",
    "from bs4 import BeautifulSoup\n",
    "import constantes\n",
    "import pandas as pd"
   ]
  },
  {
   "cell_type": "markdown",
   "metadata": {},
   "source": [
    "# Web Scraping"
   ]
  },
  {
   "cell_type": "code",
   "execution_count": 2,
   "metadata": {},
   "outputs": [],
   "source": [
    "url = 'https://tvefamosos.uol.com.br/bbb/'\n",
    "page = requests.get(url)\n",
    "soup = BeautifulSoup(page.content, 'html.parser')\n",
    "frases = [x.text for x in soup.find_all('h3', class_=\"thumb-title\")]"
   ]
  },
  {
   "cell_type": "markdown",
   "metadata": {},
   "source": [
    "# Popularidade dos Participantes"
   ]
  },
  {
   "cell_type": "code",
   "execution_count": 3,
   "metadata": {},
   "outputs": [],
   "source": [
    "dic_participantes = constantes.participantesbbb\n",
    "\n",
    "for nome in dic_participantes.keys():\n",
    "    for frase in frases:\n",
    "        if frase.count(nome)>0:\n",
    "            dic_participantes[nome]+=frase+\";\"\n",
    "            \n",
    "    "
   ]
  },
  {
   "cell_type": "code",
   "execution_count": 4,
   "metadata": {},
   "outputs": [
    {
     "data": {
      "text/plain": [
       "{'Arthur': '',\n",
       " 'Caio': \"Caio discute com Gil e diz: 'Se quiser conversar, abaixa o tom de voz' ;Covid-19 no BBB 21: Caio e Carla Diaz sem sentir gosto geram preocupação;\",\n",
       " 'Camilla': \"Camilla sobre ciúmes de Karol: 'Mulheres negras sempre foram preteridas';\",\n",
       " 'Carla': 'Covid-19 no BBB 21: Caio e Carla Diaz sem sentir gosto geram preocupação;',\n",
       " 'Fiuk': 'Thaís comenta suposto clima de romance entre Fiuk e Sarah após brincadeira ;Fiuk diz que ofereceu funk para DJ Dennis, mas travou na hora de gravar;',\n",
       " 'Gil': \"Caio discute com Gil e diz: 'Se quiser conversar, abaixa o tom de voz' ;\",\n",
       " 'João': 'Sarah avisa João que alvo de Projota são brothers neutros;',\n",
       " 'Juliette': '',\n",
       " 'Lumena': \"'Se eu for líder, eu indico a Lumena', diz Rodolffo;\",\n",
       " 'Pocah': '',\n",
       " 'Projota': 'Sarah avisa João que alvo de Projota são brothers neutros;',\n",
       " 'Rodolffo': \"'Se eu for líder, eu indico a Lumena', diz Rodolffo;\",\n",
       " 'Sarah': 'Sarah avisa João que alvo de Projota são brothers neutros;Thaís comenta suposto clima de romance entre Fiuk e Sarah após brincadeira ;',\n",
       " 'Thaís': \"Thaís usa tesourinha de unhas para cortar a franja no 'BBB 21';Thaís comenta suposto clima de romance entre Fiuk e Sarah após brincadeira ;\",\n",
       " 'Viih': '',\n",
       " 'Karol': \"Repercussão da saída de Karol e análises do jogo agitam dia na casa;O que é animosidade? Saiba o que significa palavra usada por Karol;99% x 98%: Karol e Nego Di trocam acusações após recordes de rejeição;Camilla sobre ciúmes de Karol: 'Mulheres negras sempre foram preteridas';Brothers especulam que Karol Conká está 'queimada' fora do 'BBB';Neymar elogia Tiago Leifert em eliminação de Karol Conká: 'Deu aula';'BBB 21': Saiba a razão do intervalo levado ao ar após saída de Karol Conka;'BBB 21': Saiba a razão do intervalo levado ao ar após saída de Karol Conka;99% x 98%: Karol e Nego Di trocam acusações após recordes de rejeição;Globo nega que intervalo comercial serviu para informar Karol da rejeição;\",\n",
       " 'Nego Di': '99% x 98%: Karol e Nego Di trocam acusações após recordes de rejeição;99% x 98%: Karol e Nego Di trocam acusações após recordes de rejeição;',\n",
       " 'Arcrebiano': '',\n",
       " 'Lucas': '',\n",
       " 'Kerline': ''}"
      ]
     },
     "execution_count": 4,
     "metadata": {},
     "output_type": "execute_result"
    }
   ],
   "source": [
    "dic_participantes"
   ]
  },
  {
   "cell_type": "code",
   "execution_count": 7,
   "metadata": {},
   "outputs": [],
   "source": [
    "df_participantes = pd.DataFrame.from_dict(dic_participantes, orient=\"index\").reset_index().rename(columns={\"index\":\"participante\", 0:\"noticias\"})"
   ]
  },
  {
   "cell_type": "code",
   "execution_count": 10,
   "metadata": {},
   "outputs": [
    {
     "data": {
      "text/html": [
       "<div>\n",
       "<style scoped>\n",
       "    .dataframe tbody tr th:only-of-type {\n",
       "        vertical-align: middle;\n",
       "    }\n",
       "\n",
       "    .dataframe tbody tr th {\n",
       "        vertical-align: top;\n",
       "    }\n",
       "\n",
       "    .dataframe thead th {\n",
       "        text-align: right;\n",
       "    }\n",
       "</style>\n",
       "<table border=\"1\" class=\"dataframe\">\n",
       "  <thead>\n",
       "    <tr style=\"text-align: right;\">\n",
       "      <th></th>\n",
       "      <th>participante</th>\n",
       "      <th>noticias</th>\n",
       "      <th>qtd_noticias</th>\n",
       "    </tr>\n",
       "  </thead>\n",
       "  <tbody>\n",
       "    <tr>\n",
       "      <th>0</th>\n",
       "      <td>Arthur</td>\n",
       "      <td></td>\n",
       "      <td>0</td>\n",
       "    </tr>\n",
       "    <tr>\n",
       "      <th>1</th>\n",
       "      <td>Caio</td>\n",
       "      <td>Caio discute com Gil e diz: 'Se quiser convers...</td>\n",
       "      <td>2</td>\n",
       "    </tr>\n",
       "    <tr>\n",
       "      <th>2</th>\n",
       "      <td>Camilla</td>\n",
       "      <td>Camilla sobre ciúmes de Karol: 'Mulheres negra...</td>\n",
       "      <td>1</td>\n",
       "    </tr>\n",
       "    <tr>\n",
       "      <th>3</th>\n",
       "      <td>Carla</td>\n",
       "      <td>Covid-19 no BBB 21: Caio e Carla Diaz sem sent...</td>\n",
       "      <td>1</td>\n",
       "    </tr>\n",
       "    <tr>\n",
       "      <th>4</th>\n",
       "      <td>Fiuk</td>\n",
       "      <td>Thaís comenta suposto clima de romance entre F...</td>\n",
       "      <td>2</td>\n",
       "    </tr>\n",
       "  </tbody>\n",
       "</table>\n",
       "</div>"
      ],
      "text/plain": [
       "  participante                                           noticias  \\\n",
       "0       Arthur                                                      \n",
       "1         Caio  Caio discute com Gil e diz: 'Se quiser convers...   \n",
       "2      Camilla  Camilla sobre ciúmes de Karol: 'Mulheres negra...   \n",
       "3        Carla  Covid-19 no BBB 21: Caio e Carla Diaz sem sent...   \n",
       "4         Fiuk  Thaís comenta suposto clima de romance entre F...   \n",
       "\n",
       "   qtd_noticias  \n",
       "0             0  \n",
       "1             2  \n",
       "2             1  \n",
       "3             1  \n",
       "4             2  "
      ]
     },
     "execution_count": 10,
     "metadata": {},
     "output_type": "execute_result"
    }
   ],
   "source": [
    "df_participantes.head()"
   ]
  },
  {
   "cell_type": "code",
   "execution_count": 9,
   "metadata": {},
   "outputs": [],
   "source": [
    "df_participantes['qtd_noticias'] = df_participantes['noticias'].apply(lambda x: x.count(\";\"))"
   ]
  },
  {
   "cell_type": "code",
   "execution_count": 11,
   "metadata": {},
   "outputs": [
    {
     "data": {
      "text/html": [
       "<div>\n",
       "<style scoped>\n",
       "    .dataframe tbody tr th:only-of-type {\n",
       "        vertical-align: middle;\n",
       "    }\n",
       "\n",
       "    .dataframe tbody tr th {\n",
       "        vertical-align: top;\n",
       "    }\n",
       "\n",
       "    .dataframe thead th {\n",
       "        text-align: right;\n",
       "    }\n",
       "</style>\n",
       "<table border=\"1\" class=\"dataframe\">\n",
       "  <thead>\n",
       "    <tr style=\"text-align: right;\">\n",
       "      <th></th>\n",
       "      <th>participante</th>\n",
       "      <th>noticias</th>\n",
       "      <th>qtd_noticias</th>\n",
       "    </tr>\n",
       "  </thead>\n",
       "  <tbody>\n",
       "    <tr>\n",
       "      <th>0</th>\n",
       "      <td>Arthur</td>\n",
       "      <td></td>\n",
       "      <td>0</td>\n",
       "    </tr>\n",
       "    <tr>\n",
       "      <th>1</th>\n",
       "      <td>Caio</td>\n",
       "      <td>Caio discute com Gil e diz: 'Se quiser convers...</td>\n",
       "      <td>2</td>\n",
       "    </tr>\n",
       "    <tr>\n",
       "      <th>2</th>\n",
       "      <td>Camilla</td>\n",
       "      <td>Camilla sobre ciúmes de Karol: 'Mulheres negra...</td>\n",
       "      <td>1</td>\n",
       "    </tr>\n",
       "    <tr>\n",
       "      <th>3</th>\n",
       "      <td>Carla</td>\n",
       "      <td>Covid-19 no BBB 21: Caio e Carla Diaz sem sent...</td>\n",
       "      <td>1</td>\n",
       "    </tr>\n",
       "    <tr>\n",
       "      <th>4</th>\n",
       "      <td>Fiuk</td>\n",
       "      <td>Thaís comenta suposto clima de romance entre F...</td>\n",
       "      <td>2</td>\n",
       "    </tr>\n",
       "  </tbody>\n",
       "</table>\n",
       "</div>"
      ],
      "text/plain": [
       "  participante                                           noticias  \\\n",
       "0       Arthur                                                      \n",
       "1         Caio  Caio discute com Gil e diz: 'Se quiser convers...   \n",
       "2      Camilla  Camilla sobre ciúmes de Karol: 'Mulheres negra...   \n",
       "3        Carla  Covid-19 no BBB 21: Caio e Carla Diaz sem sent...   \n",
       "4         Fiuk  Thaís comenta suposto clima de romance entre F...   \n",
       "\n",
       "   qtd_noticias  \n",
       "0             0  \n",
       "1             2  \n",
       "2             1  \n",
       "3             1  \n",
       "4             2  "
      ]
     },
     "execution_count": 11,
     "metadata": {},
     "output_type": "execute_result"
    }
   ],
   "source": [
    "df_participantes.head()"
   ]
  },
  {
   "cell_type": "code",
   "execution_count": 13,
   "metadata": {},
   "outputs": [
    {
     "data": {
      "text/html": [
       "<div>\n",
       "<style scoped>\n",
       "    .dataframe tbody tr th:only-of-type {\n",
       "        vertical-align: middle;\n",
       "    }\n",
       "\n",
       "    .dataframe tbody tr th {\n",
       "        vertical-align: top;\n",
       "    }\n",
       "\n",
       "    .dataframe thead th {\n",
       "        text-align: right;\n",
       "    }\n",
       "</style>\n",
       "<table border=\"1\" class=\"dataframe\">\n",
       "  <thead>\n",
       "    <tr style=\"text-align: right;\">\n",
       "      <th></th>\n",
       "      <th>participante</th>\n",
       "      <th>noticias</th>\n",
       "      <th>qtd_noticias</th>\n",
       "    </tr>\n",
       "  </thead>\n",
       "  <tbody>\n",
       "    <tr>\n",
       "      <th>15</th>\n",
       "      <td>Karol</td>\n",
       "      <td>Repercussão da saída de Karol e análises do jo...</td>\n",
       "      <td>10</td>\n",
       "    </tr>\n",
       "    <tr>\n",
       "      <th>4</th>\n",
       "      <td>Fiuk</td>\n",
       "      <td>Thaís comenta suposto clima de romance entre F...</td>\n",
       "      <td>2</td>\n",
       "    </tr>\n",
       "    <tr>\n",
       "      <th>1</th>\n",
       "      <td>Caio</td>\n",
       "      <td>Caio discute com Gil e diz: 'Se quiser convers...</td>\n",
       "      <td>2</td>\n",
       "    </tr>\n",
       "    <tr>\n",
       "      <th>12</th>\n",
       "      <td>Sarah</td>\n",
       "      <td>Sarah avisa João que alvo de Projota são broth...</td>\n",
       "      <td>2</td>\n",
       "    </tr>\n",
       "    <tr>\n",
       "      <th>13</th>\n",
       "      <td>Thaís</td>\n",
       "      <td>Thaís usa tesourinha de unhas para cortar a fr...</td>\n",
       "      <td>2</td>\n",
       "    </tr>\n",
       "  </tbody>\n",
       "</table>\n",
       "</div>"
      ],
      "text/plain": [
       "   participante                                           noticias  \\\n",
       "15        Karol  Repercussão da saída de Karol e análises do jo...   \n",
       "4          Fiuk  Thaís comenta suposto clima de romance entre F...   \n",
       "1          Caio  Caio discute com Gil e diz: 'Se quiser convers...   \n",
       "12        Sarah  Sarah avisa João que alvo de Projota são broth...   \n",
       "13        Thaís  Thaís usa tesourinha de unhas para cortar a fr...   \n",
       "\n",
       "    qtd_noticias  \n",
       "15            10  \n",
       "4              2  \n",
       "1              2  \n",
       "12             2  \n",
       "13             2  "
      ]
     },
     "execution_count": 13,
     "metadata": {},
     "output_type": "execute_result"
    }
   ],
   "source": [
    "df_participantes.sort_values(\"qtd_noticias\", ascending=False).head()"
   ]
  }
 ],
 "metadata": {
  "kernelspec": {
   "display_name": "Python 3",
   "language": "python",
   "name": "python3"
  },
  "language_info": {
   "codemirror_mode": {
    "name": "ipython",
    "version": 3
   },
   "file_extension": ".py",
   "mimetype": "text/x-python",
   "name": "python",
   "nbconvert_exporter": "python",
   "pygments_lexer": "ipython3",
   "version": "3.8.5"
  }
 },
 "nbformat": 4,
 "nbformat_minor": 4
}
